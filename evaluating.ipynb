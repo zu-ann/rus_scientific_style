{
 "cells": [
  {
   "cell_type": "markdown",
   "metadata": {},
   "source": [
    "# Evaluation"
   ]
  },
  {
   "cell_type": "markdown",
   "metadata": {},
   "source": [
    "Функция для создания списков релевантных и нерелевантных ngrams:"
   ]
  },
  {
   "cell_type": "code",
   "execution_count": null,
   "metadata": {},
   "outputs": [],
   "source": [
    "true = []\n",
    "false = []\n",
    "for ngram, res in zip(df.ngrams.values, df.answer.values):\n",
    "    if res == 1:\n",
    "        true.append(ngram)\n",
    "    elif res == 0:\n",
    "        false.append(ngram)\n",
    "\n",
    "true = set(true)\n",
    "false = set(false)"
   ]
  },
  {
   "cell_type": "markdown",
   "metadata": {},
   "source": [
    "Функция для подсчета Average precision at K(ap@k):"
   ]
  },
  {
   "cell_type": "code",
   "execution_count": null,
   "metadata": {},
   "outputs": [],
   "source": [
    "def APatK (predictions, true, false):\n",
    "    \n",
    "    countRelevants = 0\n",
    "    listOfPrecisions = list()\n",
    "    for i, line in enumerate(predictions):\n",
    "        currentk = i + 1.0\n",
    "        if line in true:\n",
    "            countRelevants += 1\n",
    "        elif line in false:\n",
    "            print(false)\n",
    "        else:\n",
    "            print('not in true or false ', line)\n",
    "        precisionAtK = countRelevants / currentk \n",
    "        listOfPrecisions.append(precisionAtK)\n",
    "\n",
    "    return sum(listOfPrecisions) / len(predictions)"
   ]
  },
  {
   "cell_type": "code",
   "execution_count": null,
   "metadata": {},
   "outputs": [],
   "source": [
    "# PATH -- путь к списку биграмм\n",
    "\n",
    "l = {}\n",
    "\n",
    "for file in tqdm_notebook(os.listdir(PATH)):\n",
    "    data = pd.read_csv(PATH + file, sep='\\t',\n",
    "                       names=['id', 'freq', 'range', 'ngram'], index_col=False)\n",
    "    \n",
    "    l[file] = APatK(data.ngram.values, true, false)"
   ]
  }
 ],
 "metadata": {
  "kernelspec": {
   "display_name": "Python 3",
   "language": "python",
   "name": "python3"
  },
  "language_info": {
   "codemirror_mode": {
    "name": "ipython",
    "version": 3
   },
   "file_extension": ".py",
   "mimetype": "text/x-python",
   "name": "python",
   "nbconvert_exporter": "python",
   "pygments_lexer": "ipython3",
   "version": "3.5.2"
  }
 },
 "nbformat": 4,
 "nbformat_minor": 2
}
